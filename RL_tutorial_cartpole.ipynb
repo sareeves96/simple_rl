{
 "cells": [
  {
   "cell_type": "markdown",
   "metadata": {},
   "source": [
    "# Introduction to Reinforcement Learning with OpenAI gym"
   ]
  },
  {
   "cell_type": "code",
   "execution_count": 1,
   "metadata": {},
   "outputs": [],
   "source": [
    "import tensorflow as tf\n",
    "import gym\n",
    "import numpy as np\n",
    "import time\n",
    "from scipy.stats import zscore as z_transform\n",
    "tf.config.set_visible_devices([], 'GPU')"
   ]
  },
  {
   "cell_type": "markdown",
   "metadata": {},
   "source": [
    "To get started, create a new environment! CartPole is a game where a cart moves left or right along a frictionless track to try to balance a pole placed on top."
   ]
  },
  {
   "cell_type": "code",
   "execution_count": 2,
   "metadata": {},
   "outputs": [],
   "source": [
    "env = gym.make('CartPole-v1')"
   ]
  },
  {
   "cell_type": "markdown",
   "metadata": {},
   "source": [
    "The environment is the system in which our AI will learn. We recieve information from the environment by making observations, and influence the environment by taking actions. What do these observations look like?"
   ]
  },
  {
   "cell_type": "code",
   "execution_count": 3,
   "metadata": {},
   "outputs": [
    {
     "name": "stdout",
     "output_type": "stream",
     "text": [
      "(4,)\n",
      "[4.8000002e+00 3.4028235e+38 4.1887903e-01 3.4028235e+38]\n",
      "[-4.8000002e+00 -3.4028235e+38 -4.1887903e-01 -3.4028235e+38]\n"
     ]
    }
   ],
   "source": [
    "print(env.observation_space.shape)\n",
    "print(env.observation_space.high)\n",
    "print(env.observation_space.low)"
   ]
  },
  {
   "cell_type": "markdown",
   "metadata": {},
   "source": [
    "The observation is 4 dimensional with the upper and lower bounds show. What are these dimensions? We will try to find this out later!"
   ]
  },
  {
   "cell_type": "code",
   "execution_count": 4,
   "metadata": {},
   "outputs": [
    {
     "name": "stdout",
     "output_type": "stream",
     "text": [
      "Discrete(2)\n",
      "[0, 1, 1, 0, 0, 0, 1, 0, 1, 0]\n"
     ]
    }
   ],
   "source": [
    "print(env.action_space)\n",
    "print([env.action_space.sample() for _ in range(10)])"
   ]
  },
  {
   "cell_type": "markdown",
   "metadata": {},
   "source": [
    "The action space allows us to take two actions: applying a momentary force to the left or right. But which is which? Let's take a look at the environment:"
   ]
  },
  {
   "cell_type": "code",
   "execution_count": 5,
   "metadata": {},
   "outputs": [
    {
     "name": "stdout",
     "output_type": "stream",
     "text": [
      "[ 0.02723134  0.19014457  0.04552725 -0.25160991] 1.0 False {}\n",
      "[ 0.03103423  0.38458783  0.04049505 -0.5295922 ] 1.0 False {}\n",
      "[ 0.03872599  0.1889203   0.02990321 -0.22442923] 1.0 False {}\n",
      "[ 0.0425044  -0.00661599  0.02541462  0.07753432] 1.0 False {}\n",
      "[ 0.04237208 -0.20209288  0.02696531  0.37812606] 1.0 False {}\n",
      "[ 0.03833022 -0.00736406  0.03452783  0.09406586] 1.0 False {}\n",
      "[ 0.03818294  0.18724643  0.03640915 -0.18752673] 1.0 False {}\n",
      "[ 0.04192787  0.38182907  0.03265861 -0.46850532] 1.0 False {}\n",
      "[ 0.04956445  0.18626132  0.02328851 -0.16571021] 1.0 False {}\n",
      "[ 0.05328967  0.3810423   0.0199743  -0.45095624] 1.0 False {}\n",
      "[ 0.06091052  0.18564363  0.01095518 -0.15204465] 1.0 False {}\n",
      "[ 0.06462339 -0.00963346  0.00791429  0.14407416] 1.0 False {}\n",
      "[ 0.06443072 -0.20486785  0.01079577  0.43924336] 1.0 False {}\n",
      "[ 0.06033337 -0.40014092  0.01958064  0.73530979] 1.0 False {}\n",
      "[ 0.05233055 -0.20529485  0.03428683  0.44885305] 1.0 False {}\n",
      "[ 0.04822465 -0.01067424  0.04326389  0.16717206] 1.0 False {}\n",
      "[ 0.04801117 -0.20638791  0.04660733  0.47318348] 1.0 False {}\n",
      "[ 0.04388341 -0.01195412  0.056071    0.1955471 ] 1.0 False {}\n",
      "[ 0.04364432 -0.20783142  0.05998195  0.50537754] 1.0 False {}\n",
      "[ 0.0394877  -0.40374509  0.0700895   0.81634367] 1.0 False {}\n",
      "[ 0.03141279 -0.59975306  0.08641637  1.1302232 ] 1.0 False {}\n",
      "[ 0.01941773 -0.79589372  0.10902083  1.44871112] 1.0 False {}\n",
      "[ 0.00349986 -0.60226786  0.13799506  1.19198531] 1.0 False {}\n",
      "[-0.0085455  -0.79888094  0.16183476  1.52454326] 1.0 False {}\n",
      "[-0.02452312 -0.99554456  0.19232563  1.86305607] 1.0 False {}\n",
      "[-0.04443401 -0.80298084  0.22958675  1.63573192] 1.0 True {}\n"
     ]
    },
    {
     "name": "stderr",
     "output_type": "stream",
     "text": [
      "C:\\Users\\Shawn.LAPTOP-BA3EQTSR\\anaconda3\\lib\\site-packages\\gym\\logger.py:30: UserWarning: \u001b[33mWARN: You are calling 'step()' even though this environment has already returned done = True. You should always call 'reset()' once you receive 'done = True' -- any further steps are undefined behavior.\u001b[0m\n",
      "  warnings.warn(colorize('%s: %s'%('WARN', msg % args), 'yellow'))\n"
     ]
    },
    {
     "name": "stdout",
     "output_type": "stream",
     "text": [
      "[-0.06049362 -0.99994047  0.26230139  1.99032628] 0.0 True {}\n",
      "[-0.08049243 -1.19668391  0.30210791  2.3515826 ] 0.0 True {}\n",
      "[-0.10442611 -1.3930028   0.34913956  2.72019924] 0.0 True {}\n",
      "[-0.13228617 -1.20165981  0.40354355  2.55107536] 0.0 True {}\n"
     ]
    }
   ],
   "source": [
    "# reset the environment to start a new session, with the pole near vertical and the cart in the middle.\n",
    "env.reset()\n",
    "for _ in range(30):\n",
    "    env.render() # prints the environment to another window\n",
    "    #observation, reward, done, info = env.step(0)\n",
    "    #observation, reward, done, info = env.step(1)\n",
    "    observation, reward, done, info = env.step(env.action_space.sample()) # choose a random action and send it to the env!\n",
    "    print(observation, reward, done, info)\n",
    "    time.sleep(0.5)\n",
    "env.close() # this is the only way to close the window!"
   ]
  },
  {
   "cell_type": "markdown",
   "metadata": {},
   "source": [
    "Maybe if you're brighter than me you can figure out exactly what each of these dimensions mean. Luckily, we don't care! Our machine will figure it out. What's important is that we see that we are getting a reward of 1 at each time step that done = False, and after done = True, we get no more reward. This occurs when the angle of the pole is too large, or the cart has drifted too far from the center. This is the end of a \"session\"."
   ]
  },
  {
   "cell_type": "markdown",
   "metadata": {},
   "source": [
    "To solve the problem of what action to take given an observation, we will use a neural network. For our current purposes, you can think of it as a magical black box that converts an input (4-dimensional observation) to an output (probabilities of taking each action in the 2-dimensional action space)."
   ]
  },
  {
   "cell_type": "code",
   "execution_count": 6,
   "metadata": {},
   "outputs": [],
   "source": [
    "model = tf.keras.Sequential([tf.keras.layers.Input(shape=env.observation_space.shape),\n",
    "                             tf.keras.layers.Dense(4, activation='sigmoid'),\n",
    "                             tf.keras.layers.Dense(env.action_space.n, activation=tf.nn.softmax)])"
   ]
  },
  {
   "cell_type": "markdown",
   "metadata": {},
   "source": [
    "Congratulations, you just made a neural network! The code above uses a high-level interface called keras to easily generate models. This neural network has an input layer that takes in the observations, a hidden middle layer which has magical unknown abilities, and an output layer that corresponds to probabilities of actions. Unfortunately, it is not smart:"
   ]
  },
  {
   "cell_type": "code",
   "execution_count": 7,
   "metadata": {},
   "outputs": [],
   "source": [
    "# reset the environment to start a new session, with the pole near vertical and the cart in the middle.\n",
    "observation = env.reset()\n",
    "for _ in range(30):\n",
    "    env.render()\n",
    "    # convert the observation into a form that the model can use as an input\n",
    "    action_dist = model.predict(tf.convert_to_tensor(tf.expand_dims(observation, 0)))[0]\n",
    "    # sample from the action space\n",
    "    action = int(np.random.choice(np.arange(len(action_dist)), p=action_dist))\n",
    "    # send that action to the environment to see what happens\n",
    "    observation, reward, done, info = env.step(action) \n",
    "    time.sleep(0.5)\n",
    "env.close() # this is the only way to close the window!"
   ]
  },
  {
   "cell_type": "markdown",
   "metadata": {},
   "source": [
    "Because our model (that is, our AI, or our neural network) has been randomly initialized, its behaviour should also be pretty random. It could also be biased and only move the cart one direction. Our goal is to have it make educated choices about what action to take given an observation. The first step in this goal is to run a bunch of sessions and see how the model is performing. Then we will know how to adjust its behaviour. Here's what a function to run a session looks like:"
   ]
  },
  {
   "cell_type": "code",
   "execution_count": 8,
   "metadata": {},
   "outputs": [],
   "source": [
    "def run(render=False):\n",
    "    all_obs = []\n",
    "    all_ac = []\n",
    "    rw = 0\n",
    "    observation = env.reset()\n",
    "\n",
    "    while True:\n",
    "        if render:\n",
    "            env.render()\n",
    "        # get the distribution over action space from the model\n",
    "        action_dist = model.predict(tf.convert_to_tensor(tf.expand_dims(observation, 0)))[0]\n",
    "        # sample from the action space\n",
    "        action = int(np.random.choice(np.arange(len(action_dist)), p=action_dist))\n",
    "        # get the information about the state of the system following the action\n",
    "        observation, reward, done, info = env.step(action)\n",
    "        all_obs.append(observation)\n",
    "        all_ac.append(action)\n",
    "        rw += reward\n",
    "        # done specifies that the session is over, usually due to a win or loss\n",
    "        if done:\n",
    "            break\n",
    "    env.close()\n",
    "\n",
    "    # return the observations and rewards (the reward will be discounted later)\n",
    "    return all_obs, all_ac, rw"
   ]
  },
  {
   "cell_type": "code",
   "execution_count": 9,
   "metadata": {},
   "outputs": [
    {
     "data": {
      "text/plain": [
       "([array([-0.0082659 ,  0.19769832,  0.03488744, -0.2875753 ]),\n",
       "  array([-0.00431194,  0.00209666,  0.02913593,  0.01590347]),\n",
       "  array([-0.00427   , -0.19343076,  0.029454  ,  0.31763487]),\n",
       "  array([-0.00813862,  0.00125957,  0.0358067 ,  0.03438427]),\n",
       "  array([-0.00811343,  0.19585023,  0.03649438, -0.2467897 ]),\n",
       "  array([-0.00419642,  0.39043248,  0.03155859, -0.52774177]),\n",
       "  array([ 0.00361223,  0.19488105,  0.02100375, -0.225284  ]),\n",
       "  array([ 0.00750985, -0.00053469,  0.01649807,  0.07394961]),\n",
       "  array([ 0.00749916,  0.19434691,  0.01797707, -0.21348279]),\n",
       "  array([ 0.01138609, -0.00102739,  0.01370741,  0.08481627]),\n",
       "  array([ 0.01136555,  0.19389542,  0.01540374, -0.20351062]),\n",
       "  array([ 0.01524345,  0.38879373,  0.01133352, -0.49129489]),\n",
       "  array([ 0.02301933,  0.19351376,  0.00150762, -0.19506176]),\n",
       "  array([ 0.0268896 , -0.00162972, -0.00239361,  0.09809638]),\n",
       "  array([ 0.02685701,  0.19352645, -0.00043168, -0.19534076]),\n",
       "  array([ 0.03072754,  0.38865457, -0.0043385 , -0.48815984]),\n",
       "  array([ 0.03850063,  0.58383747, -0.01410169, -0.78220694]),\n",
       "  array([ 0.05017738,  0.77915037, -0.02974583, -1.07929292]),\n",
       "  array([ 0.06576039,  0.97465222, -0.05133169, -1.38115995]),\n",
       "  array([ 0.08525343,  0.78020711, -0.07895489, -1.10496136]),\n",
       "  array([ 0.10085757,  0.97627349, -0.10105412, -1.42133335]),\n",
       "  array([ 0.12038304,  1.17248991, -0.12948078, -1.74381582]),\n",
       "  array([ 0.14383284,  1.36882555, -0.1643571 , -2.07381508]),\n",
       "  array([ 0.17120935,  1.17571028, -0.2058334 , -1.8361496 ]),\n",
       "  array([ 0.19472356,  1.37242797, -0.24255639, -2.18508599])],\n",
       " [1, 0, 0, 1, 1, 1, 0, 0, 1, 0, 1, 1, 0, 0, 1, 1, 1, 1, 1, 0, 1, 1, 1, 0, 1],\n",
       " 25.0)"
      ]
     },
     "execution_count": 9,
     "metadata": {},
     "output_type": "execute_result"
    }
   ],
   "source": [
    "run()"
   ]
  },
  {
   "cell_type": "markdown",
   "metadata": {},
   "source": [
    "Essentially, we're just collecting information in a bunch of lists to use for training. We have made the decision to count the reward for the session as the sum of rewards recieved throughout the session: the higher the final reward, the longer the pole was balanced. Also, we stop getting rewards when 'done' (when the pole has rotated a certain angle from normal), so we will stop the session at that point."
   ]
  },
  {
   "cell_type": "markdown",
   "metadata": {},
   "source": [
    "A problem we now encounter is that there is no real association between rewards recieved and specific actions taken; a reward is given based on the collection of all actions taken in a single session, but which actions contributed to success? Here we will make another simplifying assumption: the actions taken closest to the end of the session matter the most. This isn't the case for every problem, but in this case you can imagine that the decisions made when the pole is tipping are the most important. How do we account for this? We make the rewards smaller the further away from the end of the session they occur, 'discounting' them."
   ]
  },
  {
   "cell_type": "code",
   "execution_count": 10,
   "metadata": {},
   "outputs": [],
   "source": [
    "def discount(rw, gamma=0.9):\n",
    "    # weight individual rewards with an exponential decay function\n",
    "    # since the magnitude should be largest close to the end of the session, apply the weights in reverse order\n",
    "    weights = np.array([gamma**(rw.shape[0]-i-1) for i in range(rw.shape[0])])\n",
    "    discounted = tf.convert_to_tensor(weights, dtype=tf.float32) * rw\n",
    "    return discounted"
   ]
  },
  {
   "cell_type": "markdown",
   "metadata": {},
   "source": [
    "Here, rw is a list of the same length as the number of frames in a corresponding session. These represent the reward given for the actions taken in each frame. We discount the rewards by weighting them with an exponential decay function, so that the action in the last frame of the session gets a full reward, but actions that happened early on get almost no reward."
   ]
  },
  {
   "cell_type": "markdown",
   "metadata": {},
   "source": [
    "In our current framework, we are handing out all rewards and no punishments. This might work, but it will stabilize training to cause the rewards to have a mean of zero. That means some of the rewards will be negative, or more like punishments."
   ]
  },
  {
   "cell_type": "code",
   "execution_count": 11,
   "metadata": {},
   "outputs": [],
   "source": [
    "def normalize(rw_list):\n",
    "    rw_norm = [r - np.mean(rw_list) for r in rw_list]\n",
    "    return rw_norm"
   ]
  },
  {
   "cell_type": "markdown",
   "metadata": {},
   "source": [
    "So how do these collected observations, actions, and discounted rewards apply to the model? They are connected by a loss function, which determines how the parameters of the model should change to better react to its environment:"
   ]
  },
  {
   "cell_type": "code",
   "execution_count": 12,
   "metadata": {},
   "outputs": [],
   "source": [
    "def compute_loss(obs, ac, rw):\n",
    "    y_pred = model(obs)\n",
    "    y_true = ac\n",
    "    # binary cross-entropy is just one kind of loss function that is larger when y_true and y_pred are more different\n",
    "    loss = tf.keras.losses.binary_crossentropy(y_true, y_pred)\n",
    "    # element-wise multiplication\n",
    "    rw_weighted_loss = tf.math.multiply(loss, rw)\n",
    "    return rw_weighted_loss"
   ]
  },
  {
   "cell_type": "markdown",
   "metadata": {},
   "source": [
    "The 'loss' is a function of an observation, an associated action, and the received reward for that action in that context. y_pred is the probability distribution (over the two actions) that the model predicts, while y_true is the action that it actually chose. y_pred is binomial and sums to 1, something like [0.25, 0.75], while y_true is binomial and discrete, like [0, 1]. If y_pred was [0.25, 0.75], that means the force-right action has a 75% possibility of being sampled, and we see that in the case of [0, 1], it was indeed chosen."
   ]
  },
  {
   "cell_type": "markdown",
   "metadata": {},
   "source": [
    "So what is the point of this loss function? Well, let's say that we are looking at one single frame of a session, where we think the chosen action led to a high reward, such that rw is positive and large. We want to reinforce the selected action, to make it more probable to occur in the future. So we want y_pred to closer match y_true (increasing its probability), and we tell our model to make it so by changing its parameters to minimize this loss. Ultimately, this is just a fancy optimization task. This loss function is computed for every frame of every section, each with its own action, observation, and discounted reward. That's a lot of data to use to improve!"
   ]
  },
  {
   "cell_type": "markdown",
   "metadata": {},
   "source": [
    "How do you think we would want to change the probability distribution (with respect to the chosen action) if the reward was negative?"
   ]
  },
  {
   "cell_type": "markdown",
   "metadata": {},
   "source": [
    "Speaking of optimization and optimization of optimizers, one of the central hyperparameters we can control in our algorithm is something called the \"learning rate\" of the optimizer. A hyperparameter is a parameter that controls other parameters, such as the parameters used in the neural network (the weights and biases). \n",
    "\n",
    "The job of the optimizer is to use the collected information from the loss function to determine how to update the parameters of the model. You may have heard that neural networks use something called 'gradient decent' to optimize their mapping from inputs to outputs. The optimizer we will used, called 'Adam' is a fancier version of gradient decent. The hyperparameter \"learning rate\" controls how quickly the model parameters change in response to new training data."
   ]
  },
  {
   "cell_type": "code",
   "execution_count": 13,
   "metadata": {},
   "outputs": [],
   "source": [
    "optimizer = tf.keras.optimizers.Adam(0.01)"
   ]
  },
  {
   "cell_type": "markdown",
   "metadata": {},
   "source": [
    "What do you think might happen if the learning rate is very large or small? Are there consequences to quickly changing the parameters in response to new data? What is the ideal balance? It turns out that for some tasks (this one included) performance is quite dependent on this hyperparameter."
   ]
  },
  {
   "cell_type": "markdown",
   "metadata": {},
   "source": [
    "At this point, we are surprisingly close to being finished! The last step is to put everything together in a training loop. This loop will take our existing functions and tie them all together. \n",
    "\n",
    "    -First, we will run a number of sessions and collect all of the data: observations, actions, and rewards.\n",
    "\n",
    "    -Then, we will normalize the rewards. If you have been paying attention, you may have noticed that until now, the \n",
    "    rewards are all positive! We want to punish failure and reward success for stable training. We then discount the rewards \n",
    "    for each section.\n",
    "\n",
    "    -Then, we will compute the loss. This code is vectorized, enabling us to use matrix math to compute the loss for a whole \n",
    "    session all at once! The gradient tape tool will keep track of how all the parameters need to change to reduce the loss. \n",
    "    All we need to do is calculate the loss \"with\" the gradient tape, and this information will be saved.\n",
    "\n",
    "    -Finally, we apply the gradients to our neural network, changing its parameters to minimize the loss, and hopefully, \n",
    "    respond more appropriately to its environment!"
   ]
  },
  {
   "cell_type": "code",
   "execution_count": 16,
   "metadata": {},
   "outputs": [],
   "source": [
    "def batch_train(model, batch_size, render):\n",
    "    obs_list = []\n",
    "    ac_list = []\n",
    "    rw_list = []\n",
    "\n",
    "    for _ in range(batch_size):\n",
    "        obs, ac, rw = run(render)\n",
    "        obs_list.append(obs)\n",
    "        ac_list.append(ac)\n",
    "        rw_list.append(rw)\n",
    "    \n",
    "    # track how the model is doing!\n",
    "    print(np.mean(rw_list))\n",
    "\n",
    "    # normalize rewards. this will cause the worst performing sessions of the batch to recieve negative rewards\n",
    "    # while the best performing ones recieve positive rewards\n",
    "    rw_norm = normalize(rw_list)\n",
    "    # convert to tensors to discount. each frame of a session is initially assigned the same reward\n",
    "    # which is the sum of the rewards obtained at each frame of the session\n",
    "    rw_tensors = [tf.ones(shape=len(obs_list[i])) * rw for i, rw in enumerate(rw_norm)]\n",
    "    # list of discounted rewards in session\n",
    "    rw_discount = [discount(rw) for rw in rw_tensors]\n",
    "    # list of observations\n",
    "    obs_tensors = [tf.convert_to_tensor(obs, dtype=tf.float32) for obs in obs_list]\n",
    "    # list of actions\n",
    "    ac_tensors = [tf.one_hot(ac, depth=env.action_space.n) for ac in ac_list]\n",
    "\n",
    "    gradients = []\n",
    "\n",
    "    # for each session of observations and discounted rewards\n",
    "    for obs, act, rw in zip(obs_tensors, ac_tensors, rw_discount):\n",
    "        # compute the gradient of the selected actions with respect to the observations of the environment\n",
    "        with tf.GradientTape() as tape:\n",
    "            loss = compute_loss(obs, act, rw)\n",
    "            loss = tf.convert_to_tensor(loss, dtype=tf.float32)\n",
    "        g = tape.gradient(loss, model.trainable_variables)\n",
    "        # collect all the gradients, instead of applying them at each step which would give inaccurate rewards\n",
    "        gradients.append(g)\n",
    "    avg_gradients = []\n",
    "\n",
    "    # each k represents a kernel's gradients\n",
    "    # can't do this as a tensor because shapes change\n",
    "    for k in range(len(gradients[0])):\n",
    "        # get all of the gradients associated to one kernel\n",
    "        t = tf.convert_to_tensor([grad[k] for grad in gradients])\n",
    "        t = tf.reduce_mean(t, axis=0)\n",
    "        avg_gradients.append(t)\n",
    "\n",
    "    # apply the gradients to their respective variables\n",
    "    # can't do this until all gradients have been calculated\n",
    "    optimizer.apply_gradients(zip(avg_gradients, model.trainable_variables))\n",
    "    \n",
    "    # track how the model weights change over time\n",
    "    # print(model.weights)\n",
    "\n",
    "    return 1"
   ]
  },
  {
   "cell_type": "markdown",
   "metadata": {},
   "source": [
    "The majority of steps not discussed just involve reshaping the data into a form that can be used by tensorflow."
   ]
  },
  {
   "cell_type": "code",
   "execution_count": 17,
   "metadata": {},
   "outputs": [
    {
     "name": "stdout",
     "output_type": "stream",
     "text": [
      "21.8\n",
      "20.6\n",
      "17.2\n",
      "18.2\n",
      "23.1\n",
      "23.2\n",
      "18.8\n",
      "19.8\n",
      "22.5\n",
      "23.8\n"
     ]
    }
   ],
   "source": [
    "for _ in range(10):\n",
    "    batch_train(model=model, batch_size=10, render=False)"
   ]
  },
  {
   "cell_type": "markdown",
   "metadata": {},
   "source": [
    "Why don't you think the reward goes up consistently? You can render the model if it helps."
   ]
  },
  {
   "cell_type": "markdown",
   "metadata": {},
   "source": [
    "How could the reward system be changed so that the algorithm was discouraged from moving the cart so much?"
   ]
  }
 ],
 "metadata": {
  "kernelspec": {
   "display_name": "Python 3",
   "language": "python",
   "name": "python3"
  },
  "language_info": {
   "codemirror_mode": {
    "name": "ipython",
    "version": 3
   },
   "file_extension": ".py",
   "mimetype": "text/x-python",
   "name": "python",
   "nbconvert_exporter": "python",
   "pygments_lexer": "ipython3",
   "version": "3.8.5"
  }
 },
 "nbformat": 4,
 "nbformat_minor": 4
}
